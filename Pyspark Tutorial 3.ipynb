{
 "cells": [
  {
   "cell_type": "code",
   "execution_count": 14,
   "id": "5c8136a5",
   "metadata": {},
   "outputs": [],
   "source": [
    "from pyspark.sql import SparkSession"
   ]
  },
  {
   "cell_type": "code",
   "execution_count": 70,
   "id": "66b16d55",
   "metadata": {},
   "outputs": [],
   "source": [
    "spark = SparkSession.builder.appName('Practice').getOrCreate()"
   ]
  },
  {
   "cell_type": "code",
   "execution_count": 71,
   "id": "b55cf7fc",
   "metadata": {},
   "outputs": [],
   "source": [
    "df = spark.read.csv(\"C:/Users/Acer/Desktop/test 1.csv\", header = True, inferSchema = True)"
   ]
  },
  {
   "cell_type": "code",
   "execution_count": 72,
   "id": "9557b921",
   "metadata": {},
   "outputs": [
    {
     "name": "stdout",
     "output_type": "stream",
     "text": [
      "+---------+----+----------+-------+\n",
      "|     Name| Age|Experience| Salary|\n",
      "+---------+----+----------+-------+\n",
      "|    krish|  22|         5| 100000|\n",
      "|     naik|  35|         6| 100006|\n",
      "|    Nupur|  20|         5|     10|\n",
      "|     Yash|  34|         6| 566463|\n",
      "|   Shivam|  33|        34|5621238|\n",
      "|Deekshith|  26|        23| 262666|\n",
      "|   Rajesh|  32|         2|5565665|\n",
      "|   Madan |  45|        32|2222222|\n",
      "|  Kuldeep|  43|      NULL| 150000|\n",
      "|    Geeta|NULL|        30| 150000|\n",
      "|    Shyam|  80|        40|   NULL|\n",
      "+---------+----+----------+-------+\n",
      "\n"
     ]
    }
   ],
   "source": [
    "df.show()"
   ]
  },
  {
   "cell_type": "markdown",
   "id": "5cb89de1",
   "metadata": {},
   "source": [
    "## dropping the columns"
   ]
  },
  {
   "cell_type": "code",
   "execution_count": 73,
   "id": "5cd2880f",
   "metadata": {},
   "outputs": [
    {
     "data": {
      "text/plain": [
       "pyspark.sql.dataframe.DataFrame"
      ]
     },
     "execution_count": 73,
     "metadata": {},
     "output_type": "execute_result"
    }
   ],
   "source": [
    "type(df)"
   ]
  },
  {
   "cell_type": "code",
   "execution_count": 74,
   "id": "176ede79",
   "metadata": {},
   "outputs": [
    {
     "name": "stdout",
     "output_type": "stream",
     "text": [
      "+---------+----+-------+\n",
      "|     Name| Age| Salary|\n",
      "+---------+----+-------+\n",
      "|    krish|  22| 100000|\n",
      "|     naik|  35| 100006|\n",
      "|    Nupur|  20|     10|\n",
      "|     Yash|  34| 566463|\n",
      "|   Shivam|  33|5621238|\n",
      "|Deekshith|  26| 262666|\n",
      "|   Rajesh|  32|5565665|\n",
      "|   Madan |  45|2222222|\n",
      "|  Kuldeep|  43| 150000|\n",
      "|    Geeta|NULL| 150000|\n",
      "|    Shyam|  80|   NULL|\n",
      "+---------+----+-------+\n",
      "\n"
     ]
    }
   ],
   "source": [
    "df.drop('Experience').show()"
   ]
  },
  {
   "cell_type": "code",
   "execution_count": 75,
   "id": "b3cf44c5",
   "metadata": {},
   "outputs": [
    {
     "name": "stdout",
     "output_type": "stream",
     "text": [
      "+---------+----+----------+-------+\n",
      "|     Name| Age|Experience| Salary|\n",
      "+---------+----+----------+-------+\n",
      "|    krish|  22|         5| 100000|\n",
      "|     naik|  35|         6| 100006|\n",
      "|    Nupur|  20|         5|     10|\n",
      "|     Yash|  34|         6| 566463|\n",
      "|   Shivam|  33|        34|5621238|\n",
      "|Deekshith|  26|        23| 262666|\n",
      "|   Rajesh|  32|         2|5565665|\n",
      "|   Madan |  45|        32|2222222|\n",
      "|  Kuldeep|  43|      NULL| 150000|\n",
      "|    Geeta|NULL|        30| 150000|\n",
      "|    Shyam|  80|        40|   NULL|\n",
      "+---------+----+----------+-------+\n",
      "\n"
     ]
    }
   ],
   "source": [
    "df.show()      # did it not actually drop or do I have to save it in a variable"
   ]
  },
  {
   "cell_type": "code",
   "execution_count": 76,
   "id": "f9492d96",
   "metadata": {},
   "outputs": [],
   "source": [
    "ds = df.drop('Experience')"
   ]
  },
  {
   "cell_type": "code",
   "execution_count": 77,
   "id": "de6f34b6",
   "metadata": {},
   "outputs": [
    {
     "name": "stdout",
     "output_type": "stream",
     "text": [
      "+---------+----+-------+\n",
      "|     Name| Age| Salary|\n",
      "+---------+----+-------+\n",
      "|    krish|  22| 100000|\n",
      "|     naik|  35| 100006|\n",
      "|    Nupur|  20|     10|\n",
      "|     Yash|  34| 566463|\n",
      "|   Shivam|  33|5621238|\n",
      "|Deekshith|  26| 262666|\n",
      "|   Rajesh|  32|5565665|\n",
      "|   Madan |  45|2222222|\n",
      "|  Kuldeep|  43| 150000|\n",
      "|    Geeta|NULL| 150000|\n",
      "|    Shyam|  80|   NULL|\n",
      "+---------+----+-------+\n",
      "\n"
     ]
    }
   ],
   "source": [
    "ds.show()       # yeah"
   ]
  },
  {
   "cell_type": "markdown",
   "id": "3f4ee3b0",
   "metadata": {},
   "source": [
    "### dropping null values"
   ]
  },
  {
   "cell_type": "code",
   "execution_count": 78,
   "id": "72c446dd",
   "metadata": {},
   "outputs": [],
   "source": [
    "ds = df.na.drop()"
   ]
  },
  {
   "cell_type": "code",
   "execution_count": 79,
   "id": "577e55f1",
   "metadata": {},
   "outputs": [
    {
     "name": "stdout",
     "output_type": "stream",
     "text": [
      "+---------+---+----------+-------+\n",
      "|     Name|Age|Experience| Salary|\n",
      "+---------+---+----------+-------+\n",
      "|    krish| 22|         5| 100000|\n",
      "|     naik| 35|         6| 100006|\n",
      "|    Nupur| 20|         5|     10|\n",
      "|     Yash| 34|         6| 566463|\n",
      "|   Shivam| 33|        34|5621238|\n",
      "|Deekshith| 26|        23| 262666|\n",
      "|   Rajesh| 32|         2|5565665|\n",
      "|   Madan | 45|        32|2222222|\n",
      "+---------+---+----------+-------+\n",
      "\n"
     ]
    }
   ],
   "source": [
    "ds.show()        ## dropped all NA rows"
   ]
  },
  {
   "cell_type": "code",
   "execution_count": 80,
   "id": "d0477866",
   "metadata": {},
   "outputs": [
    {
     "name": "stdout",
     "output_type": "stream",
     "text": [
      "+---------+----+----------+-------+\n",
      "|     Name| Age|Experience| Salary|\n",
      "+---------+----+----------+-------+\n",
      "|    krish|  22|         5| 100000|\n",
      "|     naik|  35|         6| 100006|\n",
      "|    Nupur|  20|         5|     10|\n",
      "|     Yash|  34|         6| 566463|\n",
      "|   Shivam|  33|        34|5621238|\n",
      "|Deekshith|  26|        23| 262666|\n",
      "|   Rajesh|  32|         2|5565665|\n",
      "|   Madan |  45|        32|2222222|\n",
      "|  Kuldeep|  43|      NULL| 150000|\n",
      "|    Geeta|NULL|        30| 150000|\n",
      "|    Shyam|  80|        40|   NULL|\n",
      "+---------+----+----------+-------+\n",
      "\n"
     ]
    }
   ],
   "source": [
    "ds = df.na.drop(how = 'all').show()     ### only drop completely empty rows"
   ]
  },
  {
   "cell_type": "code",
   "execution_count": 81,
   "id": "b4042062",
   "metadata": {},
   "outputs": [
    {
     "name": "stdout",
     "output_type": "stream",
     "text": [
      "+---------+---+----------+-------+\n",
      "|     Name|Age|Experience| Salary|\n",
      "+---------+---+----------+-------+\n",
      "|    krish| 22|         5| 100000|\n",
      "|     naik| 35|         6| 100006|\n",
      "|    Nupur| 20|         5|     10|\n",
      "|     Yash| 34|         6| 566463|\n",
      "|   Shivam| 33|        34|5621238|\n",
      "|Deekshith| 26|        23| 262666|\n",
      "|   Rajesh| 32|         2|5565665|\n",
      "|   Madan | 45|        32|2222222|\n",
      "+---------+---+----------+-------+\n",
      "\n"
     ]
    }
   ],
   "source": [
    "ds = df.na.drop(how = 'any').show()         ## drop entire rows"
   ]
  },
  {
   "cell_type": "markdown",
   "id": "2c1a0875",
   "metadata": {},
   "source": [
    "#### threshold"
   ]
  },
  {
   "cell_type": "code",
   "execution_count": 82,
   "id": "b45705d4",
   "metadata": {},
   "outputs": [
    {
     "name": "stdout",
     "output_type": "stream",
     "text": [
      "+---------+----+----------+-------+\n",
      "|     Name| Age|Experience| Salary|\n",
      "+---------+----+----------+-------+\n",
      "|    krish|  22|         5| 100000|\n",
      "|     naik|  35|         6| 100006|\n",
      "|    Nupur|  20|         5|     10|\n",
      "|     Yash|  34|         6| 566463|\n",
      "|   Shivam|  33|        34|5621238|\n",
      "|Deekshith|  26|        23| 262666|\n",
      "|   Rajesh|  32|         2|5565665|\n",
      "|   Madan |  45|        32|2222222|\n",
      "|  Kuldeep|  43|      NULL| 150000|\n",
      "|    Geeta|NULL|        30| 150000|\n",
      "|    Shyam|  80|        40|   NULL|\n",
      "+---------+----+----------+-------+\n",
      "\n"
     ]
    }
   ],
   "source": [
    "ds = df.na.drop(how = 'all', thresh = 2).show()              # at least 2 null values should be present"
   ]
  },
  {
   "cell_type": "code",
   "execution_count": 83,
   "id": "cc7a4a1f",
   "metadata": {},
   "outputs": [
    {
     "name": "stdout",
     "output_type": "stream",
     "text": [
      "+---------+---+----------+-------+\n",
      "|     Name|Age|Experience| Salary|\n",
      "+---------+---+----------+-------+\n",
      "|    krish| 22|         5| 100000|\n",
      "|     naik| 35|         6| 100006|\n",
      "|    Nupur| 20|         5|     10|\n",
      "|     Yash| 34|         6| 566463|\n",
      "|   Shivam| 33|        34|5621238|\n",
      "|Deekshith| 26|        23| 262666|\n",
      "|   Rajesh| 32|         2|5565665|\n",
      "|   Madan | 45|        32|2222222|\n",
      "+---------+---+----------+-------+\n",
      "\n"
     ]
    }
   ],
   "source": [
    "ds = df.na.drop(how = 'all', thresh = 4).show()"
   ]
  },
  {
   "cell_type": "markdown",
   "id": "d785ab8b",
   "metadata": {},
   "source": [
    "### Subset"
   ]
  },
  {
   "cell_type": "code",
   "execution_count": 84,
   "id": "606fb846",
   "metadata": {},
   "outputs": [
    {
     "name": "stdout",
     "output_type": "stream",
     "text": [
      "+---------+----+----------+-------+\n",
      "|     Name| Age|Experience| Salary|\n",
      "+---------+----+----------+-------+\n",
      "|    krish|  22|         5| 100000|\n",
      "|     naik|  35|         6| 100006|\n",
      "|    Nupur|  20|         5|     10|\n",
      "|     Yash|  34|         6| 566463|\n",
      "|   Shivam|  33|        34|5621238|\n",
      "|Deekshith|  26|        23| 262666|\n",
      "|   Rajesh|  32|         2|5565665|\n",
      "|   Madan |  45|        32|2222222|\n",
      "|    Geeta|NULL|        30| 150000|\n",
      "|    Shyam|  80|        40|   NULL|\n",
      "+---------+----+----------+-------+\n",
      "\n"
     ]
    }
   ],
   "source": [
    "ds = df.na.drop(how  = 'all', subset = ['Experience']).show()     # will drop na values only from experience column"
   ]
  },
  {
   "cell_type": "markdown",
   "id": "5a138446",
   "metadata": {},
   "source": [
    "### filling missing values"
   ]
  },
  {
   "cell_type": "code",
   "execution_count": 87,
   "id": "32b09d19",
   "metadata": {},
   "outputs": [
    {
     "name": "stdout",
     "output_type": "stream",
     "text": [
      "+---------+----+----------+-------+\n",
      "|     Name| Age|Experience| Salary|\n",
      "+---------+----+----------+-------+\n",
      "|    krish|  22|         5| 100000|\n",
      "|     naik|  35|         6| 100006|\n",
      "|    Nupur|  20|         5|     10|\n",
      "|     Yash|  34|         6| 566463|\n",
      "|   Shivam|  33|        34|5621238|\n",
      "|Deekshith|  26|        23| 262666|\n",
      "|   Rajesh|  32|         2|5565665|\n",
      "|   Madan |  45|        32|2222222|\n",
      "|  Kuldeep|  43|      NULL| 150000|\n",
      "|    Geeta|NULL|        30| 150000|\n",
      "|    Shyam|  80|        40|   NULL|\n",
      "+---------+----+----------+-------+\n",
      "\n"
     ]
    }
   ],
   "source": [
    "ds = df.na.fill('Missing Values').show()         #### this is supposed to replace the NULL with Missing Values  - but it is not"
   ]
  },
  {
   "cell_type": "code",
   "execution_count": 89,
   "id": "d67598bc",
   "metadata": {},
   "outputs": [
    {
     "name": "stdout",
     "output_type": "stream",
     "text": [
      "+---------+----+----------+-------+\n",
      "|     Name| Age|Experience| Salary|\n",
      "+---------+----+----------+-------+\n",
      "|    krish|  22|         5| 100000|\n",
      "|     naik|  35|         6| 100006|\n",
      "|    Nupur|  20|         5|     10|\n",
      "|     Yash|  34|         6| 566463|\n",
      "|   Shivam|  33|        34|5621238|\n",
      "|Deekshith|  26|        23| 262666|\n",
      "|   Rajesh|  32|         2|5565665|\n",
      "|   Madan |  45|        32|2222222|\n",
      "|  Kuldeep|  43|      NULL| 150000|\n",
      "|    Geeta|NULL|        30| 150000|\n",
      "|    Shyam|  80|        40|   NULL|\n",
      "+---------+----+----------+-------+\n",
      "\n"
     ]
    }
   ],
   "source": [
    "ds = df.na.fill('Missing Values', subset = ['Salary', 'Age'] ).show()  "
   ]
  },
  {
   "cell_type": "code",
   "execution_count": 90,
   "id": "50b658bd",
   "metadata": {},
   "outputs": [
    {
     "name": "stdout",
     "output_type": "stream",
     "text": [
      "+---------+----+----------+-------+\n",
      "|     Name| Age|Experience| Salary|\n",
      "+---------+----+----------+-------+\n",
      "|    krish|  22|         5| 100000|\n",
      "|     naik|  35|         6| 100006|\n",
      "|    Nupur|  20|         5|     10|\n",
      "|     Yash|  34|         6| 566463|\n",
      "|   Shivam|  33|        34|5621238|\n",
      "|Deekshith|  26|        23| 262666|\n",
      "|   Rajesh|  32|         2|5565665|\n",
      "|   Madan |  45|        32|2222222|\n",
      "|  Kuldeep|  43|      NULL| 150000|\n",
      "|    Geeta|NULL|        30| 150000|\n",
      "|    Shyam|  80|        40|   NULL|\n",
      "+---------+----+----------+-------+\n",
      "\n"
     ]
    }
   ],
   "source": [
    "df.show()"
   ]
  },
  {
   "cell_type": "markdown",
   "id": "4137da56",
   "metadata": {},
   "source": [
    "## Imputing missing values"
   ]
  },
  {
   "cell_type": "code",
   "execution_count": 93,
   "id": "0ce14ba2",
   "metadata": {},
   "outputs": [],
   "source": [
    "from pyspark.ml.feature import Imputer               ####  just remember this code\n",
    "\n",
    "imp = Imputer( inputCols = ['Age', 'Experience', 'Salary'], \n",
    "              outputCols = [\"{}_imputed\".format(c) for c in ['Age', 'Experience', 'Salary']]\n",
    ").setStrategy('mean')"
   ]
  },
  {
   "cell_type": "code",
   "execution_count": 95,
   "id": "33e23d74",
   "metadata": {},
   "outputs": [
    {
     "name": "stdout",
     "output_type": "stream",
     "text": [
      "+---------+----+----------+-------+-----------+------------------+--------------+\n",
      "|     Name| Age|Experience| Salary|Age_imputed|Experience_imputed|Salary_imputed|\n",
      "+---------+----+----------+-------+-----------+------------------+--------------+\n",
      "|    krish|  22|         5| 100000|         22|                 5|        100000|\n",
      "|     naik|  35|         6| 100006|         35|                 6|        100006|\n",
      "|    Nupur|  20|         5|     10|         20|                 5|            10|\n",
      "|     Yash|  34|         6| 566463|         34|                 6|        566463|\n",
      "|   Shivam|  33|        34|5621238|         33|                34|       5621238|\n",
      "|Deekshith|  26|        23| 262666|         26|                23|        262666|\n",
      "|   Rajesh|  32|         2|5565665|         32|                 2|       5565665|\n",
      "|   Madan |  45|        32|2222222|         45|                32|       2222222|\n",
      "|  Kuldeep|  43|      NULL| 150000|         43|                18|        150000|\n",
      "|    Geeta|NULL|        30| 150000|         37|                30|        150000|\n",
      "|    Shyam|  80|        40|   NULL|         80|                40|       1473827|\n",
      "+---------+----+----------+-------+-----------+------------------+--------------+\n",
      "\n"
     ]
    }
   ],
   "source": [
    "imp.fit(df).transform(df).show()             ### imputed null with mean"
   ]
  },
  {
   "cell_type": "code",
   "execution_count": 97,
   "id": "05d6674e",
   "metadata": {},
   "outputs": [
    {
     "data": {
      "text/plain": [
       "' imp1 = Imputer( inputCols = [\\'Age\\', \\'Experience\\', \\'Salary\\', \"Name\"], \\n              outputCols = [\"{}_imputed\".format(c) for c in [\\'Age\\', \\'Experience\\', \\'Salary\\', \"Name\"]]\\n).setStrategy(\\'mean\\')       \\n\\nimp1.fit(df).transform(df).show()  '"
      ]
     },
     "execution_count": 97,
     "metadata": {},
     "output_type": "execute_result"
    }
   ],
   "source": [
    "''' imp1 = Imputer( inputCols = ['Age', 'Experience', 'Salary', \"Name\"], \n",
    "              outputCols = [\"{}_imputed\".format(c) for c in ['Age', 'Experience', 'Salary', \"Name\"]]\n",
    ").setStrategy('mean')       \n",
    "\n",
    "imp1.fit(df).transform(df).show()  '''  ####  just curious as to what happens if I take the mean of name - it gave an error"
   ]
  },
  {
   "cell_type": "code",
   "execution_count": 98,
   "id": "c826a85f",
   "metadata": {},
   "outputs": [
    {
     "name": "stdout",
     "output_type": "stream",
     "text": [
      "+---------+----+----------+-------+-----------+------------------+--------------+\n",
      "|     Name| Age|Experience| Salary|Age_imputed|Experience_imputed|Salary_imputed|\n",
      "+---------+----+----------+-------+-----------+------------------+--------------+\n",
      "|    krish|  22|         5| 100000|         22|                 5|        100000|\n",
      "|     naik|  35|         6| 100006|         35|                 6|        100006|\n",
      "|    Nupur|  20|         5|     10|         20|                 5|            10|\n",
      "|     Yash|  34|         6| 566463|         34|                 6|        566463|\n",
      "|   Shivam|  33|        34|5621238|         33|                34|       5621238|\n",
      "|Deekshith|  26|        23| 262666|         26|                23|        262666|\n",
      "|   Rajesh|  32|         2|5565665|         32|                 2|       5565665|\n",
      "|   Madan |  45|        32|2222222|         45|                32|       2222222|\n",
      "|  Kuldeep|  43|      NULL| 150000|         43|                 6|        150000|\n",
      "|    Geeta|NULL|        30| 150000|         33|                30|        150000|\n",
      "|    Shyam|  80|        40|   NULL|         80|                40|        150000|\n",
      "+---------+----+----------+-------+-----------+------------------+--------------+\n",
      "\n"
     ]
    }
   ],
   "source": [
    "imp = Imputer( inputCols = ['Age', 'Experience', 'Salary'], \n",
    "              outputCols = [\"{}_imputed\".format(c) for c in ['Age', 'Experience', 'Salary']]\n",
    ").setStrategy('median')\n",
    "imp.fit(df).transform(df).show()             ## median instead of mean"
   ]
  }
 ],
 "metadata": {
  "kernelspec": {
   "display_name": "Python 3 (ipykernel)",
   "language": "python",
   "name": "python3"
  },
  "language_info": {
   "codemirror_mode": {
    "name": "ipython",
    "version": 3
   },
   "file_extension": ".py",
   "mimetype": "text/x-python",
   "name": "python",
   "nbconvert_exporter": "python",
   "pygments_lexer": "ipython3",
   "version": "3.9.12"
  }
 },
 "nbformat": 4,
 "nbformat_minor": 5
}
