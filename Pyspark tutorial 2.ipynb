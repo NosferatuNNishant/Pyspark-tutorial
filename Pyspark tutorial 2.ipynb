{
 "cells": [
  {
   "cell_type": "code",
   "execution_count": 1,
   "id": "17bb4559",
   "metadata": {},
   "outputs": [],
   "source": [
    "from pyspark.sql import SparkSession"
   ]
  },
  {
   "cell_type": "code",
   "execution_count": 2,
   "id": "6081b615",
   "metadata": {},
   "outputs": [],
   "source": [
    "spark = SparkSession.builder.appName('DataFrame').getOrCreate()"
   ]
  },
  {
   "cell_type": "code",
   "execution_count": 3,
   "id": "125e7105",
   "metadata": {},
   "outputs": [
    {
     "data": {
      "text/html": [
       "\n",
       "            <div>\n",
       "                <p><b>SparkSession - in-memory</b></p>\n",
       "                \n",
       "        <div>\n",
       "            <p><b>SparkContext</b></p>\n",
       "\n",
       "            <p><a href=\"http://DESKTOP-RG370T4:4040\">Spark UI</a></p>\n",
       "\n",
       "            <dl>\n",
       "              <dt>Version</dt>\n",
       "                <dd><code>v3.5.0</code></dd>\n",
       "              <dt>Master</dt>\n",
       "                <dd><code>local[*]</code></dd>\n",
       "              <dt>AppName</dt>\n",
       "                <dd><code>DataFrame</code></dd>\n",
       "            </dl>\n",
       "        </div>\n",
       "        \n",
       "            </div>\n",
       "        "
      ],
      "text/plain": [
       "<pyspark.sql.session.SparkSession at 0x24bc10a79d0>"
      ]
     },
     "execution_count": 3,
     "metadata": {},
     "output_type": "execute_result"
    }
   ],
   "source": [
    "spark"
   ]
  },
  {
   "cell_type": "code",
   "execution_count": 10,
   "id": "4430d3fa",
   "metadata": {},
   "outputs": [],
   "source": [
    "## reading the dataset"
   ]
  },
  {
   "cell_type": "code",
   "execution_count": 11,
   "id": "5ffee6c4",
   "metadata": {},
   "outputs": [],
   "source": [
    "df = spark.read.option('header', 'true').csv(\"C:/Users/Acer/Desktop/test 1.csv\")"
   ]
  },
  {
   "cell_type": "code",
   "execution_count": 12,
   "id": "d477916d",
   "metadata": {},
   "outputs": [
    {
     "name": "stdout",
     "output_type": "stream",
     "text": [
      "+---------+---+----------+\n",
      "|     Name|Age|Experience|\n",
      "+---------+---+----------+\n",
      "|    krish| 22|         5|\n",
      "|     naik| 35|         6|\n",
      "|    Nupur| 20|         5|\n",
      "|     Yash| 34|         6|\n",
      "|   Shivam| 33|        34|\n",
      "|Deekshith| 26|        23|\n",
      "|   Rajesh| 32|         2|\n",
      "+---------+---+----------+\n",
      "\n"
     ]
    }
   ],
   "source": [
    "df.show()"
   ]
  },
  {
   "cell_type": "code",
   "execution_count": 13,
   "id": "052d553d",
   "metadata": {},
   "outputs": [
    {
     "name": "stdout",
     "output_type": "stream",
     "text": [
      "root\n",
      " |-- Name: string (nullable = true)\n",
      " |-- Age: string (nullable = true)\n",
      " |-- Experience: string (nullable = true)\n",
      "\n"
     ]
    }
   ],
   "source": [
    "df.printSchema()"
   ]
  },
  {
   "cell_type": "code",
   "execution_count": 17,
   "id": "bf3ccddc",
   "metadata": {},
   "outputs": [],
   "source": [
    "dF = spark.read.csv(\"C:/Users/Acer/Desktop/test 1.csv\", header = True, inferSchema = True)      # another way of reading the data"
   ]
  },
  {
   "cell_type": "code",
   "execution_count": 18,
   "id": "0dab0ba0",
   "metadata": {},
   "outputs": [
    {
     "name": "stdout",
     "output_type": "stream",
     "text": [
      "root\n",
      " |-- Name: string (nullable = true)\n",
      " |-- Age: integer (nullable = true)\n",
      " |-- Experience: integer (nullable = true)\n",
      "\n"
     ]
    }
   ],
   "source": [
    "dF.printSchema()      "
   ]
  },
  {
   "cell_type": "code",
   "execution_count": 19,
   "id": "cc8a83e2",
   "metadata": {},
   "outputs": [
    {
     "data": {
      "text/plain": [
       "pyspark.sql.dataframe.DataFrame"
      ]
     },
     "execution_count": 19,
     "metadata": {},
     "output_type": "execute_result"
    }
   ],
   "source": [
    "type(dF)"
   ]
  },
  {
   "cell_type": "code",
   "execution_count": 20,
   "id": "3ec690f4",
   "metadata": {},
   "outputs": [
    {
     "data": {
      "text/plain": [
       "pyspark.sql.dataframe.DataFrame"
      ]
     },
     "execution_count": 20,
     "metadata": {},
     "output_type": "execute_result"
    }
   ],
   "source": [
    "type(df)"
   ]
  },
  {
   "cell_type": "code",
   "execution_count": 21,
   "id": "0661d81c",
   "metadata": {},
   "outputs": [
    {
     "data": {
      "text/plain": [
       "['Name', 'Age', 'Experience']"
      ]
     },
     "execution_count": 21,
     "metadata": {},
     "output_type": "execute_result"
    }
   ],
   "source": [
    "df.columns"
   ]
  },
  {
   "cell_type": "code",
   "execution_count": 22,
   "id": "ca7adcac",
   "metadata": {},
   "outputs": [
    {
     "data": {
      "text/plain": [
       "Row(Name='krish', Age='22', Experience='5')"
      ]
     },
     "execution_count": 22,
     "metadata": {},
     "output_type": "execute_result"
    }
   ],
   "source": [
    "df.head()"
   ]
  },
  {
   "cell_type": "code",
   "execution_count": 23,
   "id": "f7055fe7",
   "metadata": {},
   "outputs": [
    {
     "name": "stdout",
     "output_type": "stream",
     "text": [
      "+---------+---+----------+\n",
      "|     Name|Age|Experience|\n",
      "+---------+---+----------+\n",
      "|    krish| 22|         5|\n",
      "|     naik| 35|         6|\n",
      "|    Nupur| 20|         5|\n",
      "|     Yash| 34|         6|\n",
      "|   Shivam| 33|        34|\n",
      "|Deekshith| 26|        23|\n",
      "|   Rajesh| 32|         2|\n",
      "+---------+---+----------+\n",
      "\n"
     ]
    }
   ],
   "source": [
    "df.show()"
   ]
  },
  {
   "cell_type": "code",
   "execution_count": 27,
   "id": "4fc80907",
   "metadata": {},
   "outputs": [
    {
     "name": "stdout",
     "output_type": "stream",
     "text": [
      "+---------+\n",
      "|     Name|\n",
      "+---------+\n",
      "|    krish|\n",
      "|     naik|\n",
      "|    Nupur|\n",
      "|     Yash|\n",
      "|   Shivam|\n",
      "|Deekshith|\n",
      "|   Rajesh|\n",
      "+---------+\n",
      "\n"
     ]
    }
   ],
   "source": [
    "df.select('Name').show()"
   ]
  },
  {
   "cell_type": "code",
   "execution_count": 28,
   "id": "93cbce14",
   "metadata": {},
   "outputs": [
    {
     "data": {
      "text/plain": [
       "pyspark.sql.dataframe.DataFrame"
      ]
     },
     "execution_count": 28,
     "metadata": {},
     "output_type": "execute_result"
    }
   ],
   "source": [
    "type(df.select('Name'))"
   ]
  },
  {
   "cell_type": "code",
   "execution_count": 31,
   "id": "90a68d55",
   "metadata": {},
   "outputs": [
    {
     "name": "stdout",
     "output_type": "stream",
     "text": [
      "+---------+----------+\n",
      "|     Name|Experience|\n",
      "+---------+----------+\n",
      "|    krish|         5|\n",
      "|     naik|         6|\n",
      "|    Nupur|         5|\n",
      "|     Yash|         6|\n",
      "|   Shivam|        34|\n",
      "|Deekshith|        23|\n",
      "|   Rajesh|         2|\n",
      "+---------+----------+\n",
      "\n"
     ]
    }
   ],
   "source": [
    "df.select('Name', 'Experience').show()"
   ]
  },
  {
   "cell_type": "code",
   "execution_count": 32,
   "id": "05191628",
   "metadata": {},
   "outputs": [
    {
     "data": {
      "text/plain": [
       "Column<'Name'>"
      ]
     },
     "execution_count": 32,
     "metadata": {},
     "output_type": "execute_result"
    }
   ],
   "source": [
    "df[\"Name\"]"
   ]
  },
  {
   "cell_type": "code",
   "execution_count": 34,
   "id": "41e0bb72",
   "metadata": {},
   "outputs": [
    {
     "data": {
      "text/plain": [
       "[('Name', 'string'), ('Age', 'string'), ('Experience', 'string')]"
      ]
     },
     "execution_count": 34,
     "metadata": {},
     "output_type": "execute_result"
    }
   ],
   "source": [
    "df.dtypes              ## age is also a string in it?"
   ]
  },
  {
   "cell_type": "code",
   "execution_count": 35,
   "id": "9b67921f",
   "metadata": {},
   "outputs": [
    {
     "data": {
      "text/plain": [
       "DataFrame[summary: string, Name: string, Age: string, Experience: string]"
      ]
     },
     "execution_count": 35,
     "metadata": {},
     "output_type": "execute_result"
    }
   ],
   "source": [
    "df.describe()"
   ]
  },
  {
   "cell_type": "code",
   "execution_count": 37,
   "id": "9a0eaa22",
   "metadata": {},
   "outputs": [
    {
     "name": "stdout",
     "output_type": "stream",
     "text": [
      "+-------+---------+------------------+------------------+\n",
      "|summary|     Name|               Age|        Experience|\n",
      "+-------+---------+------------------+------------------+\n",
      "|  count|        7|                 7|                 7|\n",
      "|   mean|     NULL|28.857142857142858|11.571428571428571|\n",
      "| stddev|     NULL|  6.12178000880385|12.067271755415456|\n",
      "|    min|Deekshith|                20|                 2|\n",
      "|    max|     naik|                35|                 6|\n",
      "+-------+---------+------------------+------------------+\n",
      "\n"
     ]
    }
   ],
   "source": [
    "df.describe().show()         # how is it calculating mean if it is a string"
   ]
  },
  {
   "cell_type": "markdown",
   "id": "eecb1377",
   "metadata": {},
   "source": [
    "###  adding columns in pyspark dataframe"
   ]
  },
  {
   "cell_type": "code",
   "execution_count": 42,
   "id": "0a612785",
   "metadata": {},
   "outputs": [],
   "source": [
    "df = df.withColumn(\"Experience After 2 years\", df['Experience'] + 2)"
   ]
  },
  {
   "cell_type": "code",
   "execution_count": 43,
   "id": "c9f7b9dd",
   "metadata": {},
   "outputs": [
    {
     "name": "stdout",
     "output_type": "stream",
     "text": [
      "+---------+---+----------+------------------------+\n",
      "|     Name|Age|Experience|Experience After 2 years|\n",
      "+---------+---+----------+------------------------+\n",
      "|    krish| 22|         5|                     7.0|\n",
      "|     naik| 35|         6|                     8.0|\n",
      "|    Nupur| 20|         5|                     7.0|\n",
      "|     Yash| 34|         6|                     8.0|\n",
      "|   Shivam| 33|        34|                    36.0|\n",
      "|Deekshith| 26|        23|                    25.0|\n",
      "|   Rajesh| 32|         2|                     4.0|\n",
      "+---------+---+----------+------------------------+\n",
      "\n"
     ]
    }
   ],
   "source": [
    "df.show()"
   ]
  },
  {
   "cell_type": "markdown",
   "id": "50e9414d",
   "metadata": {},
   "source": [
    "### Dropping the columns"
   ]
  },
  {
   "cell_type": "code",
   "execution_count": 45,
   "id": "a6e5279a",
   "metadata": {},
   "outputs": [
    {
     "name": "stdout",
     "output_type": "stream",
     "text": [
      "+---------+---+----------+\n",
      "|     Name|Age|Experience|\n",
      "+---------+---+----------+\n",
      "|    krish| 22|         5|\n",
      "|     naik| 35|         6|\n",
      "|    Nupur| 20|         5|\n",
      "|     Yash| 34|         6|\n",
      "|   Shivam| 33|        34|\n",
      "|Deekshith| 26|        23|\n",
      "|   Rajesh| 32|         2|\n",
      "+---------+---+----------+\n",
      "\n"
     ]
    }
   ],
   "source": [
    "df = df.drop('Experience After 2 years')\n",
    "df.show()"
   ]
  },
  {
   "cell_type": "markdown",
   "id": "6b50ae43",
   "metadata": {},
   "source": [
    "### Renaming the column"
   ]
  },
  {
   "cell_type": "code",
   "execution_count": 46,
   "id": "be17a2b5",
   "metadata": {},
   "outputs": [],
   "source": [
    "df = df.withColumnRenamed('Name', \"New Name\")"
   ]
  },
  {
   "cell_type": "code",
   "execution_count": 47,
   "id": "9e74df07",
   "metadata": {},
   "outputs": [
    {
     "name": "stdout",
     "output_type": "stream",
     "text": [
      "+---------+---+----------+\n",
      "| New Name|Age|Experience|\n",
      "+---------+---+----------+\n",
      "|    krish| 22|         5|\n",
      "|     naik| 35|         6|\n",
      "|    Nupur| 20|         5|\n",
      "|     Yash| 34|         6|\n",
      "|   Shivam| 33|        34|\n",
      "|Deekshith| 26|        23|\n",
      "|   Rajesh| 32|         2|\n",
      "+---------+---+----------+\n",
      "\n"
     ]
    }
   ],
   "source": [
    "df.show()"
   ]
  }
 ],
 "metadata": {
  "kernelspec": {
   "display_name": "Python 3 (ipykernel)",
   "language": "python",
   "name": "python3"
  },
  "language_info": {
   "codemirror_mode": {
    "name": "ipython",
    "version": 3
   },
   "file_extension": ".py",
   "mimetype": "text/x-python",
   "name": "python",
   "nbconvert_exporter": "python",
   "pygments_lexer": "ipython3",
   "version": "3.9.12"
  }
 },
 "nbformat": 4,
 "nbformat_minor": 5
}
