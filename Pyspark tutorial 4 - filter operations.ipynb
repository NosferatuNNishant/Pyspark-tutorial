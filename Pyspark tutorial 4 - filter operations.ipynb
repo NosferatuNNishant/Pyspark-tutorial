{
 "cells": [
  {
   "cell_type": "code",
   "execution_count": 2,
   "id": "086915b3",
   "metadata": {},
   "outputs": [],
   "source": [
    "from pyspark.sql import SparkSession"
   ]
  },
  {
   "cell_type": "code",
   "execution_count": 3,
   "id": "77f1ac69",
   "metadata": {},
   "outputs": [],
   "source": [
    "spark = SparkSession.builder.appName('dataframe').getOrCreate()"
   ]
  },
  {
   "cell_type": "code",
   "execution_count": 4,
   "id": "79bcfa7f",
   "metadata": {},
   "outputs": [],
   "source": [
    "df = spark.read.csv(\"C:/Users/Acer/Desktop/test2 - Sheet1.csv\", header = True, inferSchema = True)"
   ]
  },
  {
   "cell_type": "markdown",
   "id": "deea7d32",
   "metadata": {},
   "source": [
    "# Filter Operations"
   ]
  },
  {
   "cell_type": "code",
   "execution_count": 5,
   "id": "370db4f0",
   "metadata": {},
   "outputs": [
    {
     "name": "stdout",
     "output_type": "stream",
     "text": [
      "+----+---+-----------+------+\n",
      "|Name|Age|Experience |Salary|\n",
      "+----+---+-----------+------+\n",
      "|   A| 42|         18|192600|\n",
      "|   B| 49|         18|194700|\n",
      "|   C| 22|         19|196600|\n",
      "|   D| 23|         12|126900|\n",
      "|   E| 46|         16|173800|\n",
      "|   F| 48|         11|124400|\n",
      "|   G| 48|         13|144400|\n",
      "|   H| 26|         17|177800|\n",
      "|   I| 38|         16|171400|\n",
      "|   J| 22|         14|146600|\n",
      "|   K| 30|         20|209000|\n",
      "|   L| 24|         19|197200|\n",
      "+----+---+-----------+------+\n",
      "\n"
     ]
    }
   ],
   "source": [
    "df.show()"
   ]
  },
  {
   "cell_type": "markdown",
   "id": "0c20e645",
   "metadata": {},
   "source": [
    "#### Salary of people less than 170000"
   ]
  },
  {
   "cell_type": "code",
   "execution_count": 6,
   "id": "4964419d",
   "metadata": {},
   "outputs": [
    {
     "name": "stdout",
     "output_type": "stream",
     "text": [
      "+----+---+-----------+------+\n",
      "|Name|Age|Experience |Salary|\n",
      "+----+---+-----------+------+\n",
      "|   D| 23|         12|126900|\n",
      "|   F| 48|         11|124400|\n",
      "|   G| 48|         13|144400|\n",
      "|   J| 22|         14|146600|\n",
      "+----+---+-----------+------+\n",
      "\n"
     ]
    }
   ],
   "source": [
    "df.filter('Salary <= 170000').show()"
   ]
  },
  {
   "cell_type": "code",
   "execution_count": 15,
   "id": "73f132d0",
   "metadata": {},
   "outputs": [
    {
     "name": "stdout",
     "output_type": "stream",
     "text": [
      "+----+---+\n",
      "|Name|Age|\n",
      "+----+---+\n",
      "|   A| 42|\n",
      "|   B| 49|\n",
      "|   C| 22|\n",
      "|   E| 46|\n",
      "|   H| 26|\n",
      "|   I| 38|\n",
      "|   K| 30|\n",
      "|   L| 24|\n",
      "+----+---+\n",
      "\n"
     ]
    }
   ],
   "source": [
    "df.filter(\"Salary > 170000\").select(['Name', 'Age']).show()         # one way of using the filter"
   ]
  },
  {
   "cell_type": "code",
   "execution_count": 16,
   "id": "935f1946",
   "metadata": {},
   "outputs": [
    {
     "name": "stdout",
     "output_type": "stream",
     "text": [
      "+----+---+-----------+------+\n",
      "|Name|Age|Experience |Salary|\n",
      "+----+---+-----------+------+\n",
      "|   A| 42|         18|192600|\n",
      "|   B| 49|         18|194700|\n",
      "|   C| 22|         19|196600|\n",
      "|   E| 46|         16|173800|\n",
      "|   H| 26|         17|177800|\n",
      "|   I| 38|         16|171400|\n",
      "|   K| 30|         20|209000|\n",
      "|   L| 24|         19|197200|\n",
      "+----+---+-----------+------+\n",
      "\n"
     ]
    }
   ],
   "source": [
    "df.filter((df['Salary'] > 170000)).show()     # another way of using the filter"
   ]
  },
  {
   "cell_type": "code",
   "execution_count": 25,
   "id": "e53f009b",
   "metadata": {},
   "outputs": [
    {
     "name": "stdout",
     "output_type": "stream",
     "text": [
      "+----+---+-----------+------+\n",
      "|Name|Age|Experience |Salary|\n",
      "+----+---+-----------+------+\n",
      "|   A| 42|         18|192600|\n",
      "|   B| 49|         18|194700|\n",
      "|   C| 22|         19|196600|\n",
      "|   E| 46|         16|173800|\n",
      "|   H| 26|         17|177800|\n",
      "|   I| 38|         16|171400|\n",
      "|   K| 30|         20|209000|\n",
      "|   L| 24|         19|197200|\n",
      "+----+---+-----------+------+\n",
      "\n"
     ]
    }
   ],
   "source": [
    "df.filter((df['Salary'] > 170000)  | (df['Salary'] < 21000)).show()  ## | here works as an operator for AND, & was not working"
   ]
  },
  {
   "cell_type": "code",
   "execution_count": 30,
   "id": "0c1e4816",
   "metadata": {},
   "outputs": [
    {
     "name": "stdout",
     "output_type": "stream",
     "text": [
      "+----+---+-----------+------+\n",
      "|Name|Age|Experience |Salary|\n",
      "+----+---+-----------+------+\n",
      "+----+---+-----------+------+\n",
      "\n"
     ]
    }
   ],
   "source": [
    "df.filter((df['Salary'] > 170000)  & (df['Salary'] < 21000)).show()    # EMPTY FOR SOME REASON "
   ]
  },
  {
   "cell_type": "code",
   "execution_count": 43,
   "id": "4f7e443c",
   "metadata": {},
   "outputs": [
    {
     "name": "stdout",
     "output_type": "stream",
     "text": [
      "+----+---+-----------+------+\n",
      "|Name|Age|Experience |Salary|\n",
      "+----+---+-----------+------+\n",
      "|   A| 42|         18|192600|\n",
      "|   B| 49|         18|194700|\n",
      "|   C| 22|         19|196600|\n",
      "|   E| 46|         16|173800|\n",
      "|   H| 26|         17|177800|\n",
      "|   I| 38|         16|171400|\n",
      "|   K| 30|         20|209000|\n",
      "|   L| 24|         19|197200|\n",
      "+----+---+-----------+------+\n",
      "\n"
     ]
    }
   ],
   "source": [
    "df.filter(~(df['Salary'] <= 170000)).show()        # NOT operator"
   ]
  }
 ],
 "metadata": {
  "kernelspec": {
   "display_name": "Python 3 (ipykernel)",
   "language": "python",
   "name": "python3"
  },
  "language_info": {
   "codemirror_mode": {
    "name": "ipython",
    "version": 3
   },
   "file_extension": ".py",
   "mimetype": "text/x-python",
   "name": "python",
   "nbconvert_exporter": "python",
   "pygments_lexer": "ipython3",
   "version": "3.9.12"
  }
 },
 "nbformat": 4,
 "nbformat_minor": 5
}
