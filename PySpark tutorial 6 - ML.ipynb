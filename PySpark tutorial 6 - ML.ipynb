{
 "cells": [
  {
   "cell_type": "code",
   "execution_count": 104,
   "id": "4d680196",
   "metadata": {},
   "outputs": [],
   "source": [
    "from pyspark.sql import SparkSession\n",
    "spark = SparkSession.builder.appName('Pyspark ML 1').getOrCreate()"
   ]
  },
  {
   "cell_type": "code",
   "execution_count": 105,
   "id": "3ba1df8a",
   "metadata": {},
   "outputs": [],
   "source": [
    "df = spark.read.csv(\"C:/Users/Acer/Desktop/Pyspark data sets/test4.csv\", inferSchema = True, header = True)"
   ]
  },
  {
   "cell_type": "code",
   "execution_count": 106,
   "id": "dca25116",
   "metadata": {},
   "outputs": [
    {
     "name": "stdout",
     "output_type": "stream",
     "text": [
      "+----+---+----------+------+\n",
      "|Name|Age|Experience|Salary|\n",
      "+----+---+----------+------+\n",
      "|   A| 24|         6| 24900|\n",
      "|   B| 26|         7| 27050|\n",
      "|   C| 22|        10| 23500|\n",
      "|   D| 29|        10| 30500|\n",
      "|   E| 25|        10| 26500|\n",
      "|   F| 24|         5| 24750|\n",
      "|   G| 22|        10| 23500|\n",
      "|   H| 21|         7| 22050|\n",
      "|   I| 23|         8| 24200|\n",
      "|   J| 23|         8| 24200|\n",
      "+----+---+----------+------+\n",
      "\n"
     ]
    }
   ],
   "source": [
    "df.show()"
   ]
  },
  {
   "cell_type": "code",
   "execution_count": 107,
   "id": "2511f3b7",
   "metadata": {},
   "outputs": [
    {
     "name": "stdout",
     "output_type": "stream",
     "text": [
      "root\n",
      " |-- Name: string (nullable = true)\n",
      " |-- Age: integer (nullable = true)\n",
      " |-- Experience: integer (nullable = true)\n",
      " |-- Salary: integer (nullable = true)\n",
      "\n"
     ]
    }
   ],
   "source": [
    "df.printSchema()"
   ]
  },
  {
   "cell_type": "code",
   "execution_count": 108,
   "id": "8b1fca60",
   "metadata": {},
   "outputs": [
    {
     "data": {
      "text/plain": [
       "['Name', 'Age', 'Experience', 'Salary']"
      ]
     },
     "execution_count": 108,
     "metadata": {},
     "output_type": "execute_result"
    }
   ],
   "source": [
    "df.columns"
   ]
  },
  {
   "cell_type": "code",
   "execution_count": 109,
   "id": "76dc6fd0",
   "metadata": {},
   "outputs": [],
   "source": [
    "from pyspark.ml.feature import VectorAssembler"
   ]
  },
  {
   "cell_type": "code",
   "execution_count": 110,
   "id": "d22bd7b1",
   "metadata": {},
   "outputs": [],
   "source": [
    "feature_assembler = VectorAssembler(inputCols = ['Age', 'Experience'], outputCol = 'Independent Features')"
   ]
  },
  {
   "cell_type": "code",
   "execution_count": 111,
   "id": "9e8afac9",
   "metadata": {},
   "outputs": [],
   "source": [
    "#### inputCol's' but outputCol - remember\n",
    "# this was to make age and experience together as a new independent feature - the predictor"
   ]
  },
  {
   "cell_type": "code",
   "execution_count": 112,
   "id": "6f43630b",
   "metadata": {},
   "outputs": [],
   "source": [
    "df_1  = feature_assembler.transform(df)            "
   ]
  },
  {
   "cell_type": "code",
   "execution_count": 113,
   "id": "319bf856",
   "metadata": {},
   "outputs": [
    {
     "name": "stdout",
     "output_type": "stream",
     "text": [
      "+----+---+----------+------+--------------------+\n",
      "|Name|Age|Experience|Salary|Independent Features|\n",
      "+----+---+----------+------+--------------------+\n",
      "|   A| 24|         6| 24900|          [24.0,6.0]|\n",
      "|   B| 26|         7| 27050|          [26.0,7.0]|\n",
      "|   C| 22|        10| 23500|         [22.0,10.0]|\n",
      "|   D| 29|        10| 30500|         [29.0,10.0]|\n",
      "|   E| 25|        10| 26500|         [25.0,10.0]|\n",
      "|   F| 24|         5| 24750|          [24.0,5.0]|\n",
      "|   G| 22|        10| 23500|         [22.0,10.0]|\n",
      "|   H| 21|         7| 22050|          [21.0,7.0]|\n",
      "|   I| 23|         8| 24200|          [23.0,8.0]|\n",
      "|   J| 23|         8| 24200|          [23.0,8.0]|\n",
      "+----+---+----------+------+--------------------+\n",
      "\n"
     ]
    }
   ],
   "source": [
    "df_1.show()"
   ]
  },
  {
   "cell_type": "code",
   "execution_count": 114,
   "id": "a86f08a5",
   "metadata": {},
   "outputs": [],
   "source": [
    "f_df = df_1.select('Independent features', 'Salary')"
   ]
  },
  {
   "cell_type": "code",
   "execution_count": 115,
   "id": "d58fb23d",
   "metadata": {},
   "outputs": [
    {
     "name": "stdout",
     "output_type": "stream",
     "text": [
      "+--------------------+------+\n",
      "|Independent features|Salary|\n",
      "+--------------------+------+\n",
      "|          [24.0,6.0]| 24900|\n",
      "|          [26.0,7.0]| 27050|\n",
      "|         [22.0,10.0]| 23500|\n",
      "|         [29.0,10.0]| 30500|\n",
      "|         [25.0,10.0]| 26500|\n",
      "|          [24.0,5.0]| 24750|\n",
      "|         [22.0,10.0]| 23500|\n",
      "|          [21.0,7.0]| 22050|\n",
      "|          [23.0,8.0]| 24200|\n",
      "|          [23.0,8.0]| 24200|\n",
      "+--------------------+------+\n",
      "\n"
     ]
    }
   ],
   "source": [
    "f_df.show()"
   ]
  },
  {
   "cell_type": "code",
   "execution_count": 189,
   "id": "4dc0ff84",
   "metadata": {},
   "outputs": [],
   "source": [
    "from pyspark.ml.regression import LinearRegression"
   ]
  },
  {
   "cell_type": "code",
   "execution_count": 192,
   "id": "6e4a8c99",
   "metadata": {},
   "outputs": [],
   "source": [
    "train_data, test_data = f_df.randomSplit([0.8,0.2])              ### I did not put the [] earlier and it was causing errors"
   ]
  },
  {
   "cell_type": "code",
   "execution_count": 193,
   "id": "f3b5ede2",
   "metadata": {},
   "outputs": [
    {
     "name": "stdout",
     "output_type": "stream",
     "text": [
      "+--------------------+------+\n",
      "|Independent features|Salary|\n",
      "+--------------------+------+\n",
      "|          [21.0,7.0]| 22050|\n",
      "|         [22.0,10.0]| 23500|\n",
      "|         [22.0,10.0]| 23500|\n",
      "|          [23.0,8.0]| 24200|\n",
      "|          [23.0,8.0]| 24200|\n",
      "|          [24.0,6.0]| 24900|\n",
      "|          [26.0,7.0]| 27050|\n",
      "|         [29.0,10.0]| 30500|\n",
      "+--------------------+------+\n",
      "\n",
      "+--------------------+------+\n",
      "|Independent features|Salary|\n",
      "+--------------------+------+\n",
      "|          [24.0,5.0]| 24750|\n",
      "|         [25.0,10.0]| 26500|\n",
      "+--------------------+------+\n",
      "\n"
     ]
    }
   ],
   "source": [
    "train_data.show()\n",
    "test_data.show()"
   ]
  },
  {
   "cell_type": "code",
   "execution_count": 194,
   "id": "44f7ff91",
   "metadata": {},
   "outputs": [],
   "source": [
    "regressor=LinearRegression(featuresCol='Independent features', labelCol='Salary')"
   ]
  },
  {
   "cell_type": "code",
   "execution_count": 195,
   "id": "c6cc4dad",
   "metadata": {},
   "outputs": [],
   "source": [
    "regressor = regressor.fit(train_data)    #model created and fitted"
   ]
  },
  {
   "cell_type": "code",
   "execution_count": 196,
   "id": "0fdd9e2f",
   "metadata": {},
   "outputs": [
    {
     "data": {
      "text/plain": [
       "LinearRegressionModel: uid=LinearRegression_039c41961c10, numFeatures=2"
      ]
     },
     "execution_count": 196,
     "metadata": {},
     "output_type": "execute_result"
    }
   ],
   "source": [
    "regressor       # so the regressor is working , why is it giving me errors for coefficients then"
   ]
  },
  {
   "cell_type": "markdown",
   "id": "9feb9f98",
   "metadata": {},
   "source": [
    "## Coefficients"
   ]
  },
  {
   "cell_type": "code",
   "execution_count": 197,
   "id": "9a280d5e",
   "metadata": {},
   "outputs": [
    {
     "data": {
      "text/plain": [
       "DenseVector([1000.0, 150.0])"
      ]
     },
     "execution_count": 197,
     "metadata": {},
     "output_type": "execute_result"
    }
   ],
   "source": [
    "regressor.coefficients"
   ]
  },
  {
   "cell_type": "markdown",
   "id": "866b3e80",
   "metadata": {},
   "source": [
    "## Intercepts"
   ]
  },
  {
   "cell_type": "code",
   "execution_count": 198,
   "id": "d922e03e",
   "metadata": {},
   "outputs": [
    {
     "data": {
      "text/plain": [
       "2.0436233656461416e-10"
      ]
     },
     "execution_count": 198,
     "metadata": {},
     "output_type": "execute_result"
    }
   ],
   "source": [
    "regressor.intercept"
   ]
  },
  {
   "cell_type": "markdown",
   "id": "4ecf79a6",
   "metadata": {},
   "source": [
    "### Note: I have to write regressor = regressor.fit(X_train)  - if I do not, it shows error"
   ]
  },
  {
   "cell_type": "markdown",
   "id": "1b71eaa2",
   "metadata": {},
   "source": [
    "## Prediction"
   ]
  },
  {
   "cell_type": "code",
   "execution_count": 199,
   "id": "cfa148cd",
   "metadata": {},
   "outputs": [],
   "source": [
    "pred = regressor.evaluate(test_data)"
   ]
  },
  {
   "cell_type": "code",
   "execution_count": 200,
   "id": "f1638150",
   "metadata": {},
   "outputs": [
    {
     "name": "stdout",
     "output_type": "stream",
     "text": [
      "+--------------------+------+------------------+\n",
      "|Independent features|Salary|        prediction|\n",
      "+--------------------+------+------------------+\n",
      "|          [24.0,5.0]| 24750|24749.999999999996|\n",
      "|         [25.0,10.0]| 26500|26499.999999999996|\n",
      "+--------------------+------+------------------+\n",
      "\n"
     ]
    }
   ],
   "source": [
    "pred.predictions.show()           ## this is now how it is supposed to be"
   ]
  },
  {
   "cell_type": "code",
   "execution_count": 202,
   "id": "01ec8d9f",
   "metadata": {},
   "outputs": [
    {
     "name": "stdout",
     "output_type": "stream",
     "text": [
      "+--------------------+------+\n",
      "|Independent features|Salary|\n",
      "+--------------------+------+\n",
      "|          [24.0,5.0]| 24750|\n",
      "|         [25.0,10.0]| 26500|\n",
      "+--------------------+------+\n",
      "\n"
     ]
    }
   ],
   "source": [
    "test_data.show()            ### pretty fucking close because, I made the data this way"
   ]
  },
  {
   "cell_type": "code",
   "execution_count": 203,
   "id": "2ee60ef0",
   "metadata": {},
   "outputs": [
    {
     "data": {
      "text/plain": [
       "(3.637978807091713e-12, 1.3234889800848446e-23)"
      ]
     },
     "execution_count": 203,
     "metadata": {},
     "output_type": "execute_result"
    }
   ],
   "source": [
    "pred.meanAbsoluteError, pred.meanSquaredError"
   ]
  }
 ],
 "metadata": {
  "kernelspec": {
   "display_name": "Python 3 (ipykernel)",
   "language": "python",
   "name": "python3"
  },
  "language_info": {
   "codemirror_mode": {
    "name": "ipython",
    "version": 3
   },
   "file_extension": ".py",
   "mimetype": "text/x-python",
   "name": "python",
   "nbconvert_exporter": "python",
   "pygments_lexer": "ipython3",
   "version": "3.9.12"
  }
 },
 "nbformat": 4,
 "nbformat_minor": 5
}
